{
 "cells": [
  {
   "cell_type": "markdown",
   "id": "c3062ec0",
   "metadata": {},
   "source": [
    "# Data"
   ]
  },
  {
   "cell_type": "markdown",
   "id": "7557e671",
   "metadata": {},
   "source": [
    "kumpulan data ini adalah catatan setiap bangunan atau unit bangunan (apartemen, dll.) yang terjual di pasar properti New York City selama periode 12 bulan. properti yang dijual di New York City selama periode 12 bulan dari September 2016 hingga September 2017."
   ]
  },
  {
   "cell_type": "markdown",
   "id": "da1d2df7",
   "metadata": {},
   "source": [
    "# Isi Dataset"
   ]
  },
  {
   "cell_type": "markdown",
   "id": "578e92db",
   "metadata": {},
   "source": [
    "dataset ini berisi tentang lokasi, alamat, jenis, harga jual, dan tanggal penjualan unit bangunan yang terjual. Referensi tentang bidang yang lebih rumit:\n",
    "\n",
    "BOROUGH: Kode digit untuk wilayah tempat properti berada; dalam urutan ini adalah Manhattan (1), Bronx (2), Brooklyn (3), Queens (4), dan Staten Island (5).\n",
    "BLOCK; LOT: Kombinasi borough, block, dan lot membentuk kunci unik untuk properti di New York City. Biasa disebut a BBL.\n",
    "BUILDING CLASS AT PRESENT dan BUILDING CLASS AT TIME OF SALE: Jenis bangunan pada berbagai titik waktu. Lihat glosarium yang ditautkan ke bawah.\n",
    "Perhatikan bahwa karena ini adalah kumpulan data transaksi keuangan, ada beberapa hal yang perlu diingat:\n",
    "\n",
    "banyak penjualan terjadi dengan jumlah dolar yang sangat kecil: $0 paling umum. penjualan ini sebenarnya adalah transfer akta antar pihak: misalnya, orang tua mentransfer kepemilikan rumah mereka kepada seorang anak setelah pindah untuk pensiun. dataset ini menggunakan definisi keuangan dari sebuah bangunan/unit bangunan, untuk tujuan perpajakan. dalam hal satu entitas memiliki bangunan yang bersangkutan, penjualan mencakup nilai seluruh bangunan. dalam hal sebuah bangunan dimiliki sedikit demi sedikit oleh penghuninya (kondominium), penjualan mengacu pada satu apartemen (atau sekelompok apartemen) yang dimiliki oleh beberapa individu."
   ]
  },
  {
   "cell_type": "markdown",
   "id": "0c455b08",
   "metadata": {},
   "source": [
    "# Import Libraries"
   ]
  },
  {
   "cell_type": "code",
   "execution_count": 3,
   "id": "8a216bf2",
   "metadata": {},
   "outputs": [],
   "source": [
    "import pandas as pd\n",
    "import numpy as np\n",
    "import statistics\n",
    "from scipy import stats\n",
    "import statsmodels.api as sm\n",
    "import matplotlib.pyplot as plt\n",
    "%matplotlib inline\n",
    "import seaborn as sns\n",
    "sns.set(color_codes=True)\n",
    "sns.set(rc={'figure.figsize':(5,5)})"
   ]
  },
  {
   "cell_type": "markdown",
   "id": "f5cc090d",
   "metadata": {},
   "source": [
    "# Read Dataset"
   ]
  },
  {
   "cell_type": "code",
   "execution_count": 4,
   "id": "d0a37728",
   "metadata": {
    "scrolled": true
   },
   "outputs": [
    {
     "data": {
      "text/html": [
       "<div>\n",
       "<style scoped>\n",
       "    .dataframe tbody tr th:only-of-type {\n",
       "        vertical-align: middle;\n",
       "    }\n",
       "\n",
       "    .dataframe tbody tr th {\n",
       "        vertical-align: top;\n",
       "    }\n",
       "\n",
       "    .dataframe thead th {\n",
       "        text-align: right;\n",
       "    }\n",
       "</style>\n",
       "<table border=\"1\" class=\"dataframe\">\n",
       "  <thead>\n",
       "    <tr style=\"text-align: right;\">\n",
       "      <th></th>\n",
       "      <th>Unnamed: 0</th>\n",
       "      <th>BOROUGH</th>\n",
       "      <th>NEIGHBORHOOD</th>\n",
       "      <th>BUILDING CLASS CATEGORY</th>\n",
       "      <th>TAX CLASS AT PRESENT</th>\n",
       "      <th>BLOCK</th>\n",
       "      <th>LOT</th>\n",
       "      <th>EASE-MENT</th>\n",
       "      <th>BUILDING CLASS AT PRESENT</th>\n",
       "      <th>ADDRESS</th>\n",
       "      <th>...</th>\n",
       "      <th>RESIDENTIAL UNITS</th>\n",
       "      <th>COMMERCIAL UNITS</th>\n",
       "      <th>TOTAL UNITS</th>\n",
       "      <th>LAND SQUARE FEET</th>\n",
       "      <th>GROSS SQUARE FEET</th>\n",
       "      <th>YEAR BUILT</th>\n",
       "      <th>TAX CLASS AT TIME OF SALE</th>\n",
       "      <th>BUILDING CLASS AT TIME OF SALE</th>\n",
       "      <th>SALE PRICE</th>\n",
       "      <th>SALE DATE</th>\n",
       "    </tr>\n",
       "  </thead>\n",
       "  <tbody>\n",
       "    <tr>\n",
       "      <th>0</th>\n",
       "      <td>4</td>\n",
       "      <td>1</td>\n",
       "      <td>ALPHABET CITY</td>\n",
       "      <td>07 RENTALS - WALKUP APARTMENTS</td>\n",
       "      <td>2A</td>\n",
       "      <td>392</td>\n",
       "      <td>6</td>\n",
       "      <td></td>\n",
       "      <td>C2</td>\n",
       "      <td>153 AVENUE B</td>\n",
       "      <td>...</td>\n",
       "      <td>5</td>\n",
       "      <td>0</td>\n",
       "      <td>5</td>\n",
       "      <td>1633</td>\n",
       "      <td>6440</td>\n",
       "      <td>1900</td>\n",
       "      <td>2</td>\n",
       "      <td>C2</td>\n",
       "      <td>6625000</td>\n",
       "      <td>2017-07-19 00:00:00</td>\n",
       "    </tr>\n",
       "    <tr>\n",
       "      <th>1</th>\n",
       "      <td>5</td>\n",
       "      <td>1</td>\n",
       "      <td>ALPHABET CITY</td>\n",
       "      <td>07 RENTALS - WALKUP APARTMENTS</td>\n",
       "      <td>2</td>\n",
       "      <td>399</td>\n",
       "      <td>26</td>\n",
       "      <td></td>\n",
       "      <td>C7</td>\n",
       "      <td>234 EAST 4TH   STREET</td>\n",
       "      <td>...</td>\n",
       "      <td>28</td>\n",
       "      <td>3</td>\n",
       "      <td>31</td>\n",
       "      <td>4616</td>\n",
       "      <td>18690</td>\n",
       "      <td>1900</td>\n",
       "      <td>2</td>\n",
       "      <td>C7</td>\n",
       "      <td>-</td>\n",
       "      <td>2016-12-14 00:00:00</td>\n",
       "    </tr>\n",
       "    <tr>\n",
       "      <th>2</th>\n",
       "      <td>6</td>\n",
       "      <td>1</td>\n",
       "      <td>ALPHABET CITY</td>\n",
       "      <td>07 RENTALS - WALKUP APARTMENTS</td>\n",
       "      <td>2</td>\n",
       "      <td>399</td>\n",
       "      <td>39</td>\n",
       "      <td></td>\n",
       "      <td>C7</td>\n",
       "      <td>197 EAST 3RD   STREET</td>\n",
       "      <td>...</td>\n",
       "      <td>16</td>\n",
       "      <td>1</td>\n",
       "      <td>17</td>\n",
       "      <td>2212</td>\n",
       "      <td>7803</td>\n",
       "      <td>1900</td>\n",
       "      <td>2</td>\n",
       "      <td>C7</td>\n",
       "      <td>-</td>\n",
       "      <td>2016-12-09 00:00:00</td>\n",
       "    </tr>\n",
       "    <tr>\n",
       "      <th>3</th>\n",
       "      <td>7</td>\n",
       "      <td>1</td>\n",
       "      <td>ALPHABET CITY</td>\n",
       "      <td>07 RENTALS - WALKUP APARTMENTS</td>\n",
       "      <td>2B</td>\n",
       "      <td>402</td>\n",
       "      <td>21</td>\n",
       "      <td></td>\n",
       "      <td>C4</td>\n",
       "      <td>154 EAST 7TH STREET</td>\n",
       "      <td>...</td>\n",
       "      <td>10</td>\n",
       "      <td>0</td>\n",
       "      <td>10</td>\n",
       "      <td>2272</td>\n",
       "      <td>6794</td>\n",
       "      <td>1913</td>\n",
       "      <td>2</td>\n",
       "      <td>C4</td>\n",
       "      <td>3936272</td>\n",
       "      <td>2016-09-23 00:00:00</td>\n",
       "    </tr>\n",
       "    <tr>\n",
       "      <th>4</th>\n",
       "      <td>8</td>\n",
       "      <td>1</td>\n",
       "      <td>ALPHABET CITY</td>\n",
       "      <td>07 RENTALS - WALKUP APARTMENTS</td>\n",
       "      <td>2A</td>\n",
       "      <td>404</td>\n",
       "      <td>55</td>\n",
       "      <td></td>\n",
       "      <td>C2</td>\n",
       "      <td>301 EAST 10TH   STREET</td>\n",
       "      <td>...</td>\n",
       "      <td>6</td>\n",
       "      <td>0</td>\n",
       "      <td>6</td>\n",
       "      <td>2369</td>\n",
       "      <td>4615</td>\n",
       "      <td>1900</td>\n",
       "      <td>2</td>\n",
       "      <td>C2</td>\n",
       "      <td>8000000</td>\n",
       "      <td>2016-11-17 00:00:00</td>\n",
       "    </tr>\n",
       "  </tbody>\n",
       "</table>\n",
       "<p>5 rows × 22 columns</p>\n",
       "</div>"
      ],
      "text/plain": [
       "   Unnamed: 0  BOROUGH   NEIGHBORHOOD  \\\n",
       "0           4        1  ALPHABET CITY   \n",
       "1           5        1  ALPHABET CITY   \n",
       "2           6        1  ALPHABET CITY   \n",
       "3           7        1  ALPHABET CITY   \n",
       "4           8        1  ALPHABET CITY   \n",
       "\n",
       "                       BUILDING CLASS CATEGORY TAX CLASS AT PRESENT  BLOCK  \\\n",
       "0  07 RENTALS - WALKUP APARTMENTS                                2A    392   \n",
       "1  07 RENTALS - WALKUP APARTMENTS                                 2    399   \n",
       "2  07 RENTALS - WALKUP APARTMENTS                                 2    399   \n",
       "3  07 RENTALS - WALKUP APARTMENTS                                2B    402   \n",
       "4  07 RENTALS - WALKUP APARTMENTS                                2A    404   \n",
       "\n",
       "   LOT EASE-MENT BUILDING CLASS AT PRESENT                 ADDRESS  ...  \\\n",
       "0    6                                  C2            153 AVENUE B  ...   \n",
       "1   26                                  C7   234 EAST 4TH   STREET  ...   \n",
       "2   39                                  C7   197 EAST 3RD   STREET  ...   \n",
       "3   21                                  C4     154 EAST 7TH STREET  ...   \n",
       "4   55                                  C2  301 EAST 10TH   STREET  ...   \n",
       "\n",
       "  RESIDENTIAL UNITS  COMMERCIAL UNITS  TOTAL UNITS  LAND SQUARE FEET  \\\n",
       "0                 5                 0            5              1633   \n",
       "1                28                 3           31              4616   \n",
       "2                16                 1           17              2212   \n",
       "3                10                 0           10              2272   \n",
       "4                 6                 0            6              2369   \n",
       "\n",
       "   GROSS SQUARE FEET YEAR BUILT TAX CLASS AT TIME OF SALE  \\\n",
       "0               6440       1900                         2   \n",
       "1              18690       1900                         2   \n",
       "2               7803       1900                         2   \n",
       "3               6794       1913                         2   \n",
       "4               4615       1900                         2   \n",
       "\n",
       "   BUILDING CLASS AT TIME OF SALE  SALE PRICE            SALE DATE  \n",
       "0                              C2     6625000  2017-07-19 00:00:00  \n",
       "1                              C7         -    2016-12-14 00:00:00  \n",
       "2                              C7         -    2016-12-09 00:00:00  \n",
       "3                              C4     3936272  2016-09-23 00:00:00  \n",
       "4                              C2     8000000  2016-11-17 00:00:00  \n",
       "\n",
       "[5 rows x 22 columns]"
      ]
     },
     "execution_count": 4,
     "metadata": {},
     "output_type": "execute_result"
    }
   ],
   "source": [
    "df_nyc = pd.read_csv('C:/Users/ASUS/H8_Python_KS09_MSIB _3/Assignment2/dataset/nyc-rolling-sales.csv')\n",
    "df_nyc.head()"
   ]
  },
  {
   "cell_type": "markdown",
   "id": "7073e988",
   "metadata": {},
   "source": [
    "# Exploratory & Cleaning Data"
   ]
  },
  {
   "cell_type": "code",
   "execution_count": 5,
   "id": "5b9e0086",
   "metadata": {
    "scrolled": true
   },
   "outputs": [
    {
     "data": {
      "text/html": [
       "<div>\n",
       "<style scoped>\n",
       "    .dataframe tbody tr th:only-of-type {\n",
       "        vertical-align: middle;\n",
       "    }\n",
       "\n",
       "    .dataframe tbody tr th {\n",
       "        vertical-align: top;\n",
       "    }\n",
       "\n",
       "    .dataframe thead th {\n",
       "        text-align: right;\n",
       "    }\n",
       "</style>\n",
       "<table border=\"1\" class=\"dataframe\">\n",
       "  <thead>\n",
       "    <tr style=\"text-align: right;\">\n",
       "      <th></th>\n",
       "      <th>BOROUGH</th>\n",
       "      <th>NEIGHBORHOOD</th>\n",
       "      <th>BUILDING CLASS CATEGORY</th>\n",
       "      <th>TAX CLASS AT PRESENT</th>\n",
       "      <th>BLOCK</th>\n",
       "      <th>LOT</th>\n",
       "      <th>BUILDING CLASS AT PRESENT</th>\n",
       "      <th>ADDRESS</th>\n",
       "      <th>ZIP CODE</th>\n",
       "      <th>RESIDENTIAL UNITS</th>\n",
       "      <th>COMMERCIAL UNITS</th>\n",
       "      <th>TOTAL UNITS</th>\n",
       "      <th>LAND SQUARE FEET</th>\n",
       "      <th>GROSS SQUARE FEET</th>\n",
       "      <th>YEAR BUILT</th>\n",
       "      <th>TAX CLASS AT TIME OF SALE</th>\n",
       "      <th>BUILDING CLASS AT TIME OF SALE</th>\n",
       "      <th>SALE PRICE</th>\n",
       "      <th>SALE DATE</th>\n",
       "    </tr>\n",
       "  </thead>\n",
       "  <tbody>\n",
       "    <tr>\n",
       "      <th>0</th>\n",
       "      <td>1</td>\n",
       "      <td>ALPHABET CITY</td>\n",
       "      <td>07 RENTALS - WALKUP APARTMENTS</td>\n",
       "      <td>2A</td>\n",
       "      <td>392</td>\n",
       "      <td>6</td>\n",
       "      <td>C2</td>\n",
       "      <td>153 AVENUE B</td>\n",
       "      <td>10009</td>\n",
       "      <td>5</td>\n",
       "      <td>0</td>\n",
       "      <td>5</td>\n",
       "      <td>1633</td>\n",
       "      <td>6440</td>\n",
       "      <td>1900</td>\n",
       "      <td>2</td>\n",
       "      <td>C2</td>\n",
       "      <td>6625000</td>\n",
       "      <td>2017-07-19 00:00:00</td>\n",
       "    </tr>\n",
       "  </tbody>\n",
       "</table>\n",
       "</div>"
      ],
      "text/plain": [
       "   BOROUGH   NEIGHBORHOOD                      BUILDING CLASS CATEGORY  \\\n",
       "0        1  ALPHABET CITY  07 RENTALS - WALKUP APARTMENTS                \n",
       "\n",
       "  TAX CLASS AT PRESENT  BLOCK  LOT BUILDING CLASS AT PRESENT       ADDRESS  \\\n",
       "0                   2A    392    6                        C2  153 AVENUE B   \n",
       "\n",
       "   ZIP CODE  RESIDENTIAL UNITS  COMMERCIAL UNITS  TOTAL UNITS  \\\n",
       "0     10009                  5                 0            5   \n",
       "\n",
       "  LAND SQUARE FEET GROSS SQUARE FEET  YEAR BUILT  TAX CLASS AT TIME OF SALE  \\\n",
       "0             1633              6440        1900                          2   \n",
       "\n",
       "  BUILDING CLASS AT TIME OF SALE SALE PRICE            SALE DATE  \n",
       "0                             C2    6625000  2017-07-19 00:00:00  "
      ]
     },
     "execution_count": 5,
     "metadata": {},
     "output_type": "execute_result"
    }
   ],
   "source": [
    "#menghapus kolom yg tidak perlu, karna tidak memiliki nilai\n",
    "\n",
    "df_nyc.drop(columns=['Unnamed: 0','EASE-MENT', 'APARTMENT NUMBER'], inplace=True)\n",
    "df_nyc.head(1)"
   ]
  },
  {
   "cell_type": "code",
   "execution_count": 6,
   "id": "cfff5562",
   "metadata": {},
   "outputs": [
    {
     "data": {
      "text/plain": [
       "(84548, 19)"
      ]
     },
     "execution_count": 6,
     "metadata": {},
     "output_type": "execute_result"
    }
   ],
   "source": [
    "#melihat dimensi data\n",
    "\n",
    "df_nyc.shape"
   ]
  },
  {
   "cell_type": "markdown",
   "id": "c8992efb",
   "metadata": {},
   "source": [
    "dari hasil output diatas, terlihat bahwa data berjumlah 84.548 dengan 19 kolom"
   ]
  },
  {
   "cell_type": "code",
   "execution_count": 7,
   "id": "be59244d",
   "metadata": {
    "scrolled": false
   },
   "outputs": [
    {
     "name": "stderr",
     "output_type": "stream",
     "text": [
      "C:\\Users\\ASUS\\AppData\\Local\\Temp\\ipykernel_11056\\526211270.py:3: SettingWithCopyWarning: \n",
      "A value is trying to be set on a copy of a slice from a DataFrame\n",
      "\n",
      "See the caveats in the documentation: https://pandas.pydata.org/pandas-docs/stable/user_guide/indexing.html#returning-a-view-versus-a-copy\n",
      "  df_nyc['BOROUGH'][df_nyc['BOROUGH'] == 1] = 'Manhattan'\n"
     ]
    },
    {
     "data": {
      "text/html": [
       "<div>\n",
       "<style scoped>\n",
       "    .dataframe tbody tr th:only-of-type {\n",
       "        vertical-align: middle;\n",
       "    }\n",
       "\n",
       "    .dataframe tbody tr th {\n",
       "        vertical-align: top;\n",
       "    }\n",
       "\n",
       "    .dataframe thead th {\n",
       "        text-align: right;\n",
       "    }\n",
       "</style>\n",
       "<table border=\"1\" class=\"dataframe\">\n",
       "  <thead>\n",
       "    <tr style=\"text-align: right;\">\n",
       "      <th></th>\n",
       "      <th>BOROUGH</th>\n",
       "      <th>NEIGHBORHOOD</th>\n",
       "      <th>BUILDING CLASS CATEGORY</th>\n",
       "      <th>TAX CLASS AT PRESENT</th>\n",
       "      <th>BLOCK</th>\n",
       "      <th>LOT</th>\n",
       "      <th>BUILDING CLASS AT PRESENT</th>\n",
       "      <th>ADDRESS</th>\n",
       "      <th>ZIP CODE</th>\n",
       "      <th>RESIDENTIAL UNITS</th>\n",
       "      <th>COMMERCIAL UNITS</th>\n",
       "      <th>TOTAL UNITS</th>\n",
       "      <th>LAND SQUARE FEET</th>\n",
       "      <th>GROSS SQUARE FEET</th>\n",
       "      <th>YEAR BUILT</th>\n",
       "      <th>TAX CLASS AT TIME OF SALE</th>\n",
       "      <th>BUILDING CLASS AT TIME OF SALE</th>\n",
       "      <th>SALE PRICE</th>\n",
       "      <th>SALE DATE</th>\n",
       "    </tr>\n",
       "  </thead>\n",
       "  <tbody>\n",
       "    <tr>\n",
       "      <th>0</th>\n",
       "      <td>Manhattan</td>\n",
       "      <td>ALPHABET CITY</td>\n",
       "      <td>07 RENTALS - WALKUP APARTMENTS</td>\n",
       "      <td>2A</td>\n",
       "      <td>392</td>\n",
       "      <td>6</td>\n",
       "      <td>C2</td>\n",
       "      <td>153 AVENUE B</td>\n",
       "      <td>10009</td>\n",
       "      <td>5</td>\n",
       "      <td>0</td>\n",
       "      <td>5</td>\n",
       "      <td>1633</td>\n",
       "      <td>6440</td>\n",
       "      <td>1900</td>\n",
       "      <td>2</td>\n",
       "      <td>C2</td>\n",
       "      <td>6625000</td>\n",
       "      <td>2017-07-19 00:00:00</td>\n",
       "    </tr>\n",
       "    <tr>\n",
       "      <th>1</th>\n",
       "      <td>Manhattan</td>\n",
       "      <td>ALPHABET CITY</td>\n",
       "      <td>07 RENTALS - WALKUP APARTMENTS</td>\n",
       "      <td>2</td>\n",
       "      <td>399</td>\n",
       "      <td>26</td>\n",
       "      <td>C7</td>\n",
       "      <td>234 EAST 4TH   STREET</td>\n",
       "      <td>10009</td>\n",
       "      <td>28</td>\n",
       "      <td>3</td>\n",
       "      <td>31</td>\n",
       "      <td>4616</td>\n",
       "      <td>18690</td>\n",
       "      <td>1900</td>\n",
       "      <td>2</td>\n",
       "      <td>C7</td>\n",
       "      <td>-</td>\n",
       "      <td>2016-12-14 00:00:00</td>\n",
       "    </tr>\n",
       "    <tr>\n",
       "      <th>2</th>\n",
       "      <td>Manhattan</td>\n",
       "      <td>ALPHABET CITY</td>\n",
       "      <td>07 RENTALS - WALKUP APARTMENTS</td>\n",
       "      <td>2</td>\n",
       "      <td>399</td>\n",
       "      <td>39</td>\n",
       "      <td>C7</td>\n",
       "      <td>197 EAST 3RD   STREET</td>\n",
       "      <td>10009</td>\n",
       "      <td>16</td>\n",
       "      <td>1</td>\n",
       "      <td>17</td>\n",
       "      <td>2212</td>\n",
       "      <td>7803</td>\n",
       "      <td>1900</td>\n",
       "      <td>2</td>\n",
       "      <td>C7</td>\n",
       "      <td>-</td>\n",
       "      <td>2016-12-09 00:00:00</td>\n",
       "    </tr>\n",
       "    <tr>\n",
       "      <th>3</th>\n",
       "      <td>Manhattan</td>\n",
       "      <td>ALPHABET CITY</td>\n",
       "      <td>07 RENTALS - WALKUP APARTMENTS</td>\n",
       "      <td>2B</td>\n",
       "      <td>402</td>\n",
       "      <td>21</td>\n",
       "      <td>C4</td>\n",
       "      <td>154 EAST 7TH STREET</td>\n",
       "      <td>10009</td>\n",
       "      <td>10</td>\n",
       "      <td>0</td>\n",
       "      <td>10</td>\n",
       "      <td>2272</td>\n",
       "      <td>6794</td>\n",
       "      <td>1913</td>\n",
       "      <td>2</td>\n",
       "      <td>C4</td>\n",
       "      <td>3936272</td>\n",
       "      <td>2016-09-23 00:00:00</td>\n",
       "    </tr>\n",
       "    <tr>\n",
       "      <th>4</th>\n",
       "      <td>Manhattan</td>\n",
       "      <td>ALPHABET CITY</td>\n",
       "      <td>07 RENTALS - WALKUP APARTMENTS</td>\n",
       "      <td>2A</td>\n",
       "      <td>404</td>\n",
       "      <td>55</td>\n",
       "      <td>C2</td>\n",
       "      <td>301 EAST 10TH   STREET</td>\n",
       "      <td>10009</td>\n",
       "      <td>6</td>\n",
       "      <td>0</td>\n",
       "      <td>6</td>\n",
       "      <td>2369</td>\n",
       "      <td>4615</td>\n",
       "      <td>1900</td>\n",
       "      <td>2</td>\n",
       "      <td>C2</td>\n",
       "      <td>8000000</td>\n",
       "      <td>2016-11-17 00:00:00</td>\n",
       "    </tr>\n",
       "  </tbody>\n",
       "</table>\n",
       "</div>"
      ],
      "text/plain": [
       "     BOROUGH   NEIGHBORHOOD                      BUILDING CLASS CATEGORY  \\\n",
       "0  Manhattan  ALPHABET CITY  07 RENTALS - WALKUP APARTMENTS                \n",
       "1  Manhattan  ALPHABET CITY  07 RENTALS - WALKUP APARTMENTS                \n",
       "2  Manhattan  ALPHABET CITY  07 RENTALS - WALKUP APARTMENTS                \n",
       "3  Manhattan  ALPHABET CITY  07 RENTALS - WALKUP APARTMENTS                \n",
       "4  Manhattan  ALPHABET CITY  07 RENTALS - WALKUP APARTMENTS                \n",
       "\n",
       "  TAX CLASS AT PRESENT  BLOCK  LOT BUILDING CLASS AT PRESENT  \\\n",
       "0                   2A    392    6                        C2   \n",
       "1                    2    399   26                        C7   \n",
       "2                    2    399   39                        C7   \n",
       "3                   2B    402   21                        C4   \n",
       "4                   2A    404   55                        C2   \n",
       "\n",
       "                  ADDRESS  ZIP CODE  RESIDENTIAL UNITS  COMMERCIAL UNITS  \\\n",
       "0            153 AVENUE B     10009                  5                 0   \n",
       "1   234 EAST 4TH   STREET     10009                 28                 3   \n",
       "2   197 EAST 3RD   STREET     10009                 16                 1   \n",
       "3     154 EAST 7TH STREET     10009                 10                 0   \n",
       "4  301 EAST 10TH   STREET     10009                  6                 0   \n",
       "\n",
       "   TOTAL UNITS LAND SQUARE FEET GROSS SQUARE FEET  YEAR BUILT  \\\n",
       "0            5             1633              6440        1900   \n",
       "1           31             4616             18690        1900   \n",
       "2           17             2212              7803        1900   \n",
       "3           10             2272              6794        1913   \n",
       "4            6             2369              4615        1900   \n",
       "\n",
       "   TAX CLASS AT TIME OF SALE BUILDING CLASS AT TIME OF SALE SALE PRICE  \\\n",
       "0                          2                             C2    6625000   \n",
       "1                          2                             C7        -     \n",
       "2                          2                             C7        -     \n",
       "3                          2                             C4    3936272   \n",
       "4                          2                             C2    8000000   \n",
       "\n",
       "             SALE DATE  \n",
       "0  2017-07-19 00:00:00  \n",
       "1  2016-12-14 00:00:00  \n",
       "2  2016-12-09 00:00:00  \n",
       "3  2016-09-23 00:00:00  \n",
       "4  2016-11-17 00:00:00  "
      ]
     },
     "execution_count": 7,
     "metadata": {},
     "output_type": "execute_result"
    }
   ],
   "source": [
    "#ubah nilai pada borough dengan nama borough sesuai yang tertera di tugas assignment 2 kode.id\n",
    "\n",
    "df_nyc['BOROUGH'][df_nyc['BOROUGH'] == 1] = 'Manhattan'\n",
    "df_nyc['BOROUGH'][df_nyc['BOROUGH'] == 2] = 'Bronx'\n",
    "df_nyc['BOROUGH'][df_nyc['BOROUGH'] == 3] = 'Brooklyn'\n",
    "df_nyc['BOROUGH'][df_nyc['BOROUGH'] == 4] = 'Queens'\n",
    "df_nyc['BOROUGH'][df_nyc['BOROUGH'] == 5] = 'Staten Island'\n",
    "df_nyc.head()"
   ]
  },
  {
   "cell_type": "markdown",
   "id": "c4186d70",
   "metadata": {},
   "source": [
    "dari hasil output diatas, terlihat bahwa nilai borough sudah berubah menjadi nama borough sebagai berikut:\\\n",
    "1. nilai 1 merupakan borough Manhattan\n",
    "2. nilai 2 merupakan borough Bronx\n",
    "3. nilai 3 merupakan borough Brooklyn\n",
    "4. nilai 4 merupakan borough Queens\n",
    "5. nilai 5 merupakan borough Staten Island"
   ]
  },
  {
   "cell_type": "code",
   "execution_count": 8,
   "id": "1ebf18ac",
   "metadata": {},
   "outputs": [
    {
     "data": {
      "text/plain": [
       "array(['BOROUGH', 'NEIGHBORHOOD', 'BUILDING CLASS CATEGORY',\n",
       "       'TAX CLASS AT PRESENT', 'BLOCK', 'LOT',\n",
       "       'BUILDING CLASS AT PRESENT', 'ADDRESS', 'ZIP CODE',\n",
       "       'RESIDENTIAL UNITS', 'COMMERCIAL UNITS', 'TOTAL UNITS',\n",
       "       'LAND SQUARE FEET', 'GROSS SQUARE FEET', 'YEAR BUILT',\n",
       "       'TAX CLASS AT TIME OF SALE', 'BUILDING CLASS AT TIME OF SALE',\n",
       "       'SALE PRICE', 'SALE DATE'], dtype=object)"
      ]
     },
     "execution_count": 8,
     "metadata": {},
     "output_type": "execute_result"
    }
   ],
   "source": [
    "#melihat nama-nama kolom\n",
    "\n",
    "df_nyc.columns.values"
   ]
  },
  {
   "cell_type": "code",
   "execution_count": 9,
   "id": "a29e880c",
   "metadata": {},
   "outputs": [
    {
     "name": "stdout",
     "output_type": "stream",
     "text": [
      "<class 'pandas.core.frame.DataFrame'>\n",
      "RangeIndex: 84548 entries, 0 to 84547\n",
      "Data columns (total 19 columns):\n",
      " #   Column                          Non-Null Count  Dtype \n",
      "---  ------                          --------------  ----- \n",
      " 0   BOROUGH                         84548 non-null  object\n",
      " 1   NEIGHBORHOOD                    84548 non-null  object\n",
      " 2   BUILDING CLASS CATEGORY         84548 non-null  object\n",
      " 3   TAX CLASS AT PRESENT            84548 non-null  object\n",
      " 4   BLOCK                           84548 non-null  int64 \n",
      " 5   LOT                             84548 non-null  int64 \n",
      " 6   BUILDING CLASS AT PRESENT       84548 non-null  object\n",
      " 7   ADDRESS                         84548 non-null  object\n",
      " 8   ZIP CODE                        84548 non-null  int64 \n",
      " 9   RESIDENTIAL UNITS               84548 non-null  int64 \n",
      " 10  COMMERCIAL UNITS                84548 non-null  int64 \n",
      " 11  TOTAL UNITS                     84548 non-null  int64 \n",
      " 12  LAND SQUARE FEET                84548 non-null  object\n",
      " 13  GROSS SQUARE FEET               84548 non-null  object\n",
      " 14  YEAR BUILT                      84548 non-null  int64 \n",
      " 15  TAX CLASS AT TIME OF SALE       84548 non-null  int64 \n",
      " 16  BUILDING CLASS AT TIME OF SALE  84548 non-null  object\n",
      " 17  SALE PRICE                      84548 non-null  object\n",
      " 18  SALE DATE                       84548 non-null  object\n",
      "dtypes: int64(8), object(11)\n",
      "memory usage: 12.3+ MB\n"
     ]
    }
   ],
   "source": [
    "#melihat tipe data pada kolom\n",
    "\n",
    "df_nyc.info()"
   ]
  },
  {
   "cell_type": "markdown",
   "id": "8c231741",
   "metadata": {},
   "source": [
    "dari tabel data tersebut, terlihat bahwa ada kolom yang memiliki tipe data yang salah seperti \"SALE PRICE\" dimana tipe datanya yaitu object yang seharusnya bertipe numeric atau int64. oleh karena itu, perlu dilakukan konversi tipe data pada tiap kolom yang bertipe salah"
   ]
  },
  {
   "cell_type": "code",
   "execution_count": 10,
   "id": "752bdf56",
   "metadata": {},
   "outputs": [],
   "source": [
    "#ubah tipe data yangs sesuai\n",
    "\n",
    "df_nyc['BOROUGH'] = df_nyc['BOROUGH'].astype('string')\n",
    "df_nyc['NEIGHBORHOOD'] = df_nyc['NEIGHBORHOOD'].astype('string')\n",
    "df_nyc['BUILDING CLASS CATEGORY'] = df_nyc['BUILDING CLASS CATEGORY'].astype('category')\n",
    "df_nyc['TAX CLASS AT PRESENT'] = df_nyc['TAX CLASS AT PRESENT'].astype('category')\n",
    "df_nyc['BUILDING CLASS AT PRESENT'] = df_nyc['BUILDING CLASS AT PRESENT'].astype('category')\n",
    "df_nyc['BUILDING CLASS AT PRESENT'] = df_nyc['BUILDING CLASS AT PRESENT'].astype('category')\n",
    "df_nyc['ADDRESS'] = df_nyc['ADDRESS'].astype('string')\n",
    "df_nyc['BUILDING CLASS AT PRESENT'] = df_nyc['BUILDING CLASS AT PRESENT'].astype('category')\n",
    "df_nyc['LAND SQUARE FEET'] = pd.to_numeric(df_nyc['LAND SQUARE FEET'], errors='coerce')\n",
    "df_nyc['GROSS SQUARE FEET'] = pd.to_numeric(df_nyc['GROSS SQUARE FEET'], errors='coerce')\n",
    "df_nyc['BUILDING CLASS AT TIME OF SALE'] = df_nyc['BUILDING CLASS AT TIME OF SALE'].astype('category')\n",
    "df_nyc['SALE PRICE'] = pd.to_numeric(df_nyc['SALE PRICE'], errors='coerce')\n",
    "df_nyc['SALE DATE'] = pd.to_datetime(df_nyc['SALE DATE'], errors='coerce')"
   ]
  },
  {
   "cell_type": "markdown",
   "id": "9ad2c077",
   "metadata": {},
   "source": [
    "setelah dilakukan pengubahan tipe data yang sesuai, selanjutnya akan dicek kembali tipe datanya apakah telah berubah menjadi tipe data yang sesuai"
   ]
  },
  {
   "cell_type": "code",
   "execution_count": 11,
   "id": "bae33cc0",
   "metadata": {},
   "outputs": [
    {
     "name": "stdout",
     "output_type": "stream",
     "text": [
      "<class 'pandas.core.frame.DataFrame'>\n",
      "RangeIndex: 84548 entries, 0 to 84547\n",
      "Data columns (total 19 columns):\n",
      " #   Column                          Non-Null Count  Dtype         \n",
      "---  ------                          --------------  -----         \n",
      " 0   BOROUGH                         84548 non-null  string        \n",
      " 1   NEIGHBORHOOD                    84548 non-null  string        \n",
      " 2   BUILDING CLASS CATEGORY         84548 non-null  category      \n",
      " 3   TAX CLASS AT PRESENT            84548 non-null  category      \n",
      " 4   BLOCK                           84548 non-null  int64         \n",
      " 5   LOT                             84548 non-null  int64         \n",
      " 6   BUILDING CLASS AT PRESENT       84548 non-null  category      \n",
      " 7   ADDRESS                         84548 non-null  string        \n",
      " 8   ZIP CODE                        84548 non-null  int64         \n",
      " 9   RESIDENTIAL UNITS               84548 non-null  int64         \n",
      " 10  COMMERCIAL UNITS                84548 non-null  int64         \n",
      " 11  TOTAL UNITS                     84548 non-null  int64         \n",
      " 12  LAND SQUARE FEET                58296 non-null  float64       \n",
      " 13  GROSS SQUARE FEET               56936 non-null  float64       \n",
      " 14  YEAR BUILT                      84548 non-null  int64         \n",
      " 15  TAX CLASS AT TIME OF SALE       84548 non-null  int64         \n",
      " 16  BUILDING CLASS AT TIME OF SALE  84548 non-null  category      \n",
      " 17  SALE PRICE                      69987 non-null  float64       \n",
      " 18  SALE DATE                       84548 non-null  datetime64[ns]\n",
      "dtypes: category(4), datetime64[ns](1), float64(3), int64(8), string(3)\n",
      "memory usage: 10.2 MB\n"
     ]
    }
   ],
   "source": [
    "#melihat kembali tipe data\n",
    "\n",
    "df_nyc.info()"
   ]
  },
  {
   "cell_type": "markdown",
   "id": "2811d735",
   "metadata": {},
   "source": [
    "setelah dilakukan konversi dengan tipe data yang sesuai, maka akan dilakukan pengecekan apakah ada nilai null pada data tersebut"
   ]
  },
  {
   "cell_type": "code",
   "execution_count": 12,
   "id": "91886500",
   "metadata": {
    "scrolled": true
   },
   "outputs": [
    {
     "data": {
      "text/plain": [
       "BOROUGH                               0\n",
       "NEIGHBORHOOD                          0\n",
       "BUILDING CLASS CATEGORY               0\n",
       "TAX CLASS AT PRESENT                  0\n",
       "BLOCK                                 0\n",
       "LOT                                   0\n",
       "BUILDING CLASS AT PRESENT             0\n",
       "ADDRESS                               0\n",
       "ZIP CODE                              0\n",
       "RESIDENTIAL UNITS                     0\n",
       "COMMERCIAL UNITS                      0\n",
       "TOTAL UNITS                           0\n",
       "LAND SQUARE FEET                  26252\n",
       "GROSS SQUARE FEET                 27612\n",
       "YEAR BUILT                            0\n",
       "TAX CLASS AT TIME OF SALE             0\n",
       "BUILDING CLASS AT TIME OF SALE        0\n",
       "SALE PRICE                        14561\n",
       "SALE DATE                             0\n",
       "dtype: int64"
      ]
     },
     "execution_count": 12,
     "metadata": {},
     "output_type": "execute_result"
    }
   ],
   "source": [
    "#cek missing value\n",
    "\n",
    "df_nyc.isnull().sum()"
   ]
  },
  {
   "cell_type": "markdown",
   "id": "fbd67dda",
   "metadata": {},
   "source": [
    "karena \"LAND SQUARE FEET\", \"GROSS SQUARE FEET\", dan \"BUILDING CLASS AT TIME OF SALE\" memiliki nilai null. maka akan dilakukan cleaning data agar data pada ketiga kolom tersebut dapat digunakan."
   ]
  },
  {
   "cell_type": "code",
   "execution_count": 13,
   "id": "db74a10b",
   "metadata": {
    "scrolled": true
   },
   "outputs": [
    {
     "data": {
      "text/plain": [
       "BOROUGH                           0\n",
       "NEIGHBORHOOD                      0\n",
       "BUILDING CLASS CATEGORY           0\n",
       "TAX CLASS AT PRESENT              0\n",
       "BLOCK                             0\n",
       "LOT                               0\n",
       "BUILDING CLASS AT PRESENT         0\n",
       "ADDRESS                           0\n",
       "ZIP CODE                          0\n",
       "RESIDENTIAL UNITS                 0\n",
       "COMMERCIAL UNITS                  0\n",
       "TOTAL UNITS                       0\n",
       "LAND SQUARE FEET                  0\n",
       "GROSS SQUARE FEET                 0\n",
       "YEAR BUILT                        0\n",
       "TAX CLASS AT TIME OF SALE         0\n",
       "BUILDING CLASS AT TIME OF SALE    0\n",
       "SALE PRICE                        0\n",
       "SALE DATE                         0\n",
       "dtype: int64"
      ]
     },
     "execution_count": 13,
     "metadata": {},
     "output_type": "execute_result"
    }
   ],
   "source": [
    "#cleaning data\n",
    "\n",
    "df_nyc = df_nyc[df_nyc['GROSS SQUARE FEET'].notnull()]\n",
    "df_nyc = df_nyc[df_nyc['SALE PRICE'].notnull()]\n",
    "df_nyc = df_nyc[df_nyc['LAND SQUARE FEET'].notnull()]\n",
    "df_nyc.isnull().sum()"
   ]
  },
  {
   "cell_type": "markdown",
   "id": "1e2a59a8",
   "metadata": {},
   "source": [
    "setelah dilakukan cleaning data sudah tidak terdapat nilai null lagi, sehingga langkah selanjutnya melihat kembali dimensi datanya"
   ]
  },
  {
   "cell_type": "code",
   "execution_count": 14,
   "id": "1f1d545b",
   "metadata": {},
   "outputs": [
    {
     "data": {
      "text/plain": [
       "(48244, 19)"
      ]
     },
     "execution_count": 14,
     "metadata": {},
     "output_type": "execute_result"
    }
   ],
   "source": [
    "#melihat dimensi data\n",
    "\n",
    "df_nyc.shape"
   ]
  },
  {
   "cell_type": "markdown",
   "id": "f5208ee3",
   "metadata": {},
   "source": [
    "Setelah dilakukan cleaning data pada nilai null, jumlah data sekarang ada sebanyak 48244 dimana sebelumnya berjumlah 84548. sehingga data ini dapat digunakan dibandingkan data sebelumnya yang kemungkinan terdapat kesalahan penginputan data, data tercorrupt, dan sebagainya yang membuat hasil nanti menjadi tidak akurat. "
   ]
  },
  {
   "cell_type": "markdown",
   "id": "5da9fd8b",
   "metadata": {},
   "source": [
    "# A. Measure of Central Tendency : Mean"
   ]
  },
  {
   "cell_type": "markdown",
   "id": "97f40f33",
   "metadata": {},
   "source": [
    "**Question**"
   ]
  },
  {
   "cell_type": "markdown",
   "id": "edae2fcf",
   "metadata": {},
   "source": [
    "Berapakah harga rata-rata tertinggi properti dari 5 wilayah?"
   ]
  },
  {
   "cell_type": "markdown",
   "id": "ab53966a",
   "metadata": {},
   "source": [
    "**Pre-processing**"
   ]
  },
  {
   "cell_type": "code",
   "execution_count": 15,
   "id": "5ed60f8f",
   "metadata": {},
   "outputs": [],
   "source": [
    "#buat pivot table dengan index 'BOROUGH', values 'SALE PRICE' dan aggfunc=np.mean\n",
    "#dimana np.mean akan menghitung nilai rata-rata\n",
    "\n",
    "df_mean = df_nyc.pivot_table(\n",
    "    index='BOROUGH', \n",
    "    values='SALE PRICE', \n",
    "    aggfunc=np.mean\n",
    ")\n",
    "\n",
    "#sename kolom 'SALE PRICE' menjadi 'MEAN SALE PRICE'\n",
    "df_mean.rename(columns={'SALE PRICE':'MEAN SALE PRICE'}, inplace=True)\n",
    "\n",
    "#sort df berdasarkan kolom 'MEAN SALE PRICE'\n",
    "df_mean.sort_values('MEAN SALE PRICE', ascending=False, inplace=True)"
   ]
  },
  {
   "cell_type": "code",
   "execution_count": 16,
   "id": "409f85ae",
   "metadata": {
    "scrolled": true
   },
   "outputs": [
    {
     "data": {
      "text/html": [
       "<div>\n",
       "<style scoped>\n",
       "    .dataframe tbody tr th:only-of-type {\n",
       "        vertical-align: middle;\n",
       "    }\n",
       "\n",
       "    .dataframe tbody tr th {\n",
       "        vertical-align: top;\n",
       "    }\n",
       "\n",
       "    .dataframe thead th {\n",
       "        text-align: right;\n",
       "    }\n",
       "</style>\n",
       "<table border=\"1\" class=\"dataframe\">\n",
       "  <thead>\n",
       "    <tr style=\"text-align: right;\">\n",
       "      <th></th>\n",
       "      <th>MEAN SALE PRICE</th>\n",
       "    </tr>\n",
       "    <tr>\n",
       "      <th>BOROUGH</th>\n",
       "      <th></th>\n",
       "    </tr>\n",
       "  </thead>\n",
       "  <tbody>\n",
       "    <tr>\n",
       "      <th>Manhattan</th>\n",
       "      <td>1.851722e+07</td>\n",
       "    </tr>\n",
       "    <tr>\n",
       "      <th>Queens</th>\n",
       "      <td>9.123055e+05</td>\n",
       "    </tr>\n",
       "    <tr>\n",
       "      <th>Brooklyn</th>\n",
       "      <td>8.344884e+05</td>\n",
       "    </tr>\n",
       "    <tr>\n",
       "      <th>Bronx</th>\n",
       "      <td>5.901936e+05</td>\n",
       "    </tr>\n",
       "    <tr>\n",
       "      <th>Staten Island</th>\n",
       "      <td>5.286038e+05</td>\n",
       "    </tr>\n",
       "  </tbody>\n",
       "</table>\n",
       "</div>"
      ],
      "text/plain": [
       "               MEAN SALE PRICE\n",
       "BOROUGH                       \n",
       "Manhattan         1.851722e+07\n",
       "Queens            9.123055e+05\n",
       "Brooklyn          8.344884e+05\n",
       "Bronx             5.901936e+05\n",
       "Staten Island     5.286038e+05"
      ]
     },
     "execution_count": 16,
     "metadata": {},
     "output_type": "execute_result"
    }
   ],
   "source": [
    "#tampilkan tabel\n",
    "df_mean.head()"
   ]
  },
  {
   "cell_type": "markdown",
   "id": "9a3e0232",
   "metadata": {},
   "source": [
    "**Conclusion**"
   ]
  },
  {
   "cell_type": "markdown",
   "id": "b06f1176",
   "metadata": {},
   "source": [
    "berdasarkan tabel diatas, terlihat ada 5 wilayah yaitu Manhattan, Queens, Brooklyn, Bronx, dan Staten Island yang memiliki harga rata-rata properti tertinggi dengan harga sebagai berikut:\n",
    "\n",
    "1. Manhattan = \\\\$18,517,220\n",
    "2. Queens = \\\\$912,305,5\n",
    "3. Brooklyn = \\\\$834,488,4\n",
    "4. Bronx = \\\\$590,193,6\n",
    "5. State Island = $528,603,8"
   ]
  },
  {
   "cell_type": "markdown",
   "id": "d25ae9d2",
   "metadata": {},
   "source": [
    "# B. Measure of Central Tendency : Median"
   ]
  },
  {
   "cell_type": "markdown",
   "id": "4bb0a5a9",
   "metadata": {},
   "source": [
    "**Question**"
   ]
  },
  {
   "cell_type": "markdown",
   "id": "45077332",
   "metadata": {},
   "source": [
    "5 alamat manakah yang memiliki nilai median tertinggi harga properti?"
   ]
  },
  {
   "cell_type": "markdown",
   "id": "9b028406",
   "metadata": {},
   "source": [
    "**Pre-processing**"
   ]
  },
  {
   "cell_type": "code",
   "execution_count": 17,
   "id": "934b217b",
   "metadata": {},
   "outputs": [],
   "source": [
    "#buat pivot table dengan index 'ADDRESS', values 'SALE PRICE' dan aggfunc=np.median\n",
    "#dimana np.median akan menghitung nilai median\n",
    "\n",
    "df_median = df_nyc.pivot_table(\n",
    "    index='ADDRESS', \n",
    "    values='SALE PRICE', \n",
    "    aggfunc=np.mean\n",
    ")\n",
    "\n",
    "#rename kolom 'SALE PRICE' menjadi 'MEDIAN SALE PRICE'\n",
    "df_median.rename(columns={'SALE PRICE':'MEDIAN SALE PRICE'}, inplace=True)\n",
    "\n",
    "#sort df berdasarkan kolom 'MEDIAN SALE PRICE'\n",
    "df_median.sort_values('MEDIAN SALE PRICE', ascending=False, inplace=True)"
   ]
  },
  {
   "cell_type": "code",
   "execution_count": 18,
   "id": "30b94a10",
   "metadata": {
    "scrolled": true
   },
   "outputs": [
    {
     "data": {
      "text/html": [
       "<div>\n",
       "<style scoped>\n",
       "    .dataframe tbody tr th:only-of-type {\n",
       "        vertical-align: middle;\n",
       "    }\n",
       "\n",
       "    .dataframe tbody tr th {\n",
       "        vertical-align: top;\n",
       "    }\n",
       "\n",
       "    .dataframe thead th {\n",
       "        text-align: right;\n",
       "    }\n",
       "</style>\n",
       "<table border=\"1\" class=\"dataframe\">\n",
       "  <thead>\n",
       "    <tr style=\"text-align: right;\">\n",
       "      <th></th>\n",
       "      <th>MEDIAN SALE PRICE</th>\n",
       "    </tr>\n",
       "    <tr>\n",
       "      <th>ADDRESS</th>\n",
       "      <th></th>\n",
       "    </tr>\n",
       "  </thead>\n",
       "  <tbody>\n",
       "    <tr>\n",
       "      <th>245 PARK AVENUE</th>\n",
       "      <td>2.210000e+09</td>\n",
       "    </tr>\n",
       "    <tr>\n",
       "      <th>60 WALL STREET</th>\n",
       "      <td>1.040000e+09</td>\n",
       "    </tr>\n",
       "    <tr>\n",
       "      <th>85 BROAD STREET</th>\n",
       "      <td>6.520000e+08</td>\n",
       "    </tr>\n",
       "    <tr>\n",
       "      <th>460-520 2ND AVENUE</th>\n",
       "      <td>6.200000e+08</td>\n",
       "    </tr>\n",
       "    <tr>\n",
       "      <th>1250 BROADWAY</th>\n",
       "      <td>5.650000e+08</td>\n",
       "    </tr>\n",
       "  </tbody>\n",
       "</table>\n",
       "</div>"
      ],
      "text/plain": [
       "                    MEDIAN SALE PRICE\n",
       "ADDRESS                              \n",
       "245 PARK AVENUE          2.210000e+09\n",
       "60 WALL STREET           1.040000e+09\n",
       "85 BROAD STREET          6.520000e+08\n",
       "460-520 2ND AVENUE       6.200000e+08\n",
       "1250 BROADWAY            5.650000e+08"
      ]
     },
     "execution_count": 18,
     "metadata": {},
     "output_type": "execute_result"
    }
   ],
   "source": [
    "#tampilkan tabel\n",
    "df_median.head()"
   ]
  },
  {
   "cell_type": "markdown",
   "id": "d5764995",
   "metadata": {},
   "source": [
    "**Conclusion**"
   ]
  },
  {
   "cell_type": "markdown",
   "id": "eb7f294a",
   "metadata": {},
   "source": [
    "berdasarkan tabel diatas, terlihat ada 5 alamat yaitu 245 Park Avenue, 60 Wall Street, 85 Broad Street, 460-520 2ND Avenue, dan 1250 Broadway yang memiliki nilai median harga properti tertinggi sebagai berikut:\n",
    "\n",
    "1. 245 Park Avenue = \\\\$2,210,000,000\n",
    "2. 60 Wall Street = \\\\$1,040,000,000\n",
    "3. 85 Broad Street = \\\\$652,000,000\n",
    "4. 460-520 2ND Avenue = \\\\$620,000,000\n",
    "5. 1250 Broadway = $565,000,000"
   ]
  },
  {
   "cell_type": "markdown",
   "id": "80d27238",
   "metadata": {},
   "source": [
    "# C. Measure of Central Tendency : Mode"
   ]
  },
  {
   "cell_type": "markdown",
   "id": "f0100698",
   "metadata": {},
   "source": [
    "**Question**"
   ]
  },
  {
   "cell_type": "markdown",
   "id": "d84913c8",
   "metadata": {},
   "source": [
    "Kategori kelas properti apa yang sering terjual di setiap wilayah Staten Island?"
   ]
  },
  {
   "cell_type": "code",
   "execution_count": 19,
   "id": "58d41ff4",
   "metadata": {},
   "outputs": [],
   "source": [
    "#pilih borough\n",
    "staten = df_nyc[(df_nyc['BOROUGH'] == \"Staten Island\")]"
   ]
  },
  {
   "cell_type": "code",
   "execution_count": 20,
   "id": "4f29aaaa",
   "metadata": {
    "scrolled": true
   },
   "outputs": [
    {
     "data": {
      "text/html": [
       "<div>\n",
       "<style scoped>\n",
       "    .dataframe tbody tr th:only-of-type {\n",
       "        vertical-align: middle;\n",
       "    }\n",
       "\n",
       "    .dataframe tbody tr th {\n",
       "        vertical-align: top;\n",
       "    }\n",
       "\n",
       "    .dataframe thead th {\n",
       "        text-align: right;\n",
       "    }\n",
       "</style>\n",
       "<table border=\"1\" class=\"dataframe\">\n",
       "  <thead>\n",
       "    <tr style=\"text-align: right;\">\n",
       "      <th></th>\n",
       "      <th>BUILDING CLASS CATEGORY</th>\n",
       "    </tr>\n",
       "    <tr>\n",
       "      <th>BOROUGH</th>\n",
       "      <th></th>\n",
       "    </tr>\n",
       "  </thead>\n",
       "  <tbody>\n",
       "    <tr>\n",
       "      <th>Staten Island</th>\n",
       "      <td>([01 ONE FAMILY DWELLINGS                    ]...</td>\n",
       "    </tr>\n",
       "  </tbody>\n",
       "</table>\n",
       "</div>"
      ],
      "text/plain": [
       "                                         BUILDING CLASS CATEGORY\n",
       "BOROUGH                                                         \n",
       "Staten Island  ([01 ONE FAMILY DWELLINGS                    ]..."
      ]
     },
     "execution_count": 20,
     "metadata": {},
     "output_type": "execute_result"
    }
   ],
   "source": [
    "#buat pivot table dengan index 'BOROUGH', values 'BUILDING CLASS CATEGORY' dan aggfunc=stats.mode\n",
    "#dimana np.mode akan menghitung nilai modus\n",
    "df_mode = staten.pivot_table(\n",
    "    index='BOROUGH', \n",
    "    values='BUILDING CLASS CATEGORY', \n",
    "    aggfunc=stats.mode\n",
    ")\n",
    "\n",
    "#tampilkan tabel\n",
    "df_mode"
   ]
  },
  {
   "cell_type": "markdown",
   "id": "ded80bfc",
   "metadata": {},
   "source": [
    "**Conclusion**"
   ]
  },
  {
   "cell_type": "markdown",
   "id": "b062f921",
   "metadata": {},
   "source": [
    "berdasarkan tabel diatas, terlihat bahwa kelas properti yang sering terjual di wilayah Staten Island adalah \"01 ONE FAMILY DWELLINGS\""
   ]
  },
  {
   "cell_type": "markdown",
   "id": "bb2b93b5",
   "metadata": {},
   "source": [
    "# D. Measure of Spread : Range"
   ]
  },
  {
   "cell_type": "markdown",
   "id": "2081752d",
   "metadata": {},
   "source": [
    "**Question**"
   ]
  },
  {
   "cell_type": "markdown",
   "id": "a76f4e28",
   "metadata": {},
   "source": [
    "Berapa range harga properti termurah dan termahal dari 5 wilayah berdasarkan penjualan tahun 2017?"
   ]
  },
  {
   "cell_type": "markdown",
   "id": "df2d7df4",
   "metadata": {},
   "source": [
    "**Pre-processing**"
   ]
  },
  {
   "cell_type": "code",
   "execution_count": 21,
   "id": "203f8d4c",
   "metadata": {},
   "outputs": [],
   "source": [
    "#buat kolom bernama 'SALE YEAR' dan isi dengan year pada kolom 'SALE DATE'\n",
    "df_nyc['SALE YEAR'] = pd.DatetimeIndex(df_nyc['SALE DATE']).year"
   ]
  },
  {
   "cell_type": "code",
   "execution_count": 22,
   "id": "3e0f2d8f",
   "metadata": {},
   "outputs": [],
   "source": [
    "#pilih tahun 2010\n",
    "y2017 = df_nyc[(df_nyc['SALE YEAR'] == 2017)]"
   ]
  },
  {
   "cell_type": "code",
   "execution_count": 23,
   "id": "947eccd5",
   "metadata": {},
   "outputs": [],
   "source": [
    "#buat pivot table dengan index 'BOROUGH', values 'SALE PRICE' dan aggfunc=np.ptp\n",
    "#dimana np.ptp akan menghitung nilai range\n",
    "df_range = y2017.pivot_table(\n",
    "    index='BOROUGH', \n",
    "    values='SALE PRICE', \n",
    "    aggfunc=np.ptp\n",
    ")\n",
    "\n",
    "#rename kolom 'SALE PRICE' menjadi 'RANGE SALE PRICE'\n",
    "df_range.rename(columns={'SALE PRICE':'RANGE SALE PRICE'}, inplace=True)\n",
    "\n",
    "#sort df berdasarkan kolom 'RANGE SALE PRICE'\n",
    "df_range.sort_values('RANGE SALE PRICE', ascending=False, inplace=True)"
   ]
  },
  {
   "cell_type": "code",
   "execution_count": 24,
   "id": "bf3d4b10",
   "metadata": {
    "scrolled": true
   },
   "outputs": [
    {
     "data": {
      "text/html": [
       "<div>\n",
       "<style scoped>\n",
       "    .dataframe tbody tr th:only-of-type {\n",
       "        vertical-align: middle;\n",
       "    }\n",
       "\n",
       "    .dataframe tbody tr th {\n",
       "        vertical-align: top;\n",
       "    }\n",
       "\n",
       "    .dataframe thead th {\n",
       "        text-align: right;\n",
       "    }\n",
       "</style>\n",
       "<table border=\"1\" class=\"dataframe\">\n",
       "  <thead>\n",
       "    <tr style=\"text-align: right;\">\n",
       "      <th></th>\n",
       "      <th>RANGE SALE PRICE</th>\n",
       "    </tr>\n",
       "    <tr>\n",
       "      <th>BOROUGH</th>\n",
       "      <th></th>\n",
       "    </tr>\n",
       "  </thead>\n",
       "  <tbody>\n",
       "    <tr>\n",
       "      <th>Manhattan</th>\n",
       "      <td>2.210000e+09</td>\n",
       "    </tr>\n",
       "    <tr>\n",
       "      <th>Brooklyn</th>\n",
       "      <td>1.600000e+08</td>\n",
       "    </tr>\n",
       "    <tr>\n",
       "      <th>Queens</th>\n",
       "      <td>1.398749e+08</td>\n",
       "    </tr>\n",
       "    <tr>\n",
       "      <th>Bronx</th>\n",
       "      <td>8.637500e+07</td>\n",
       "    </tr>\n",
       "    <tr>\n",
       "      <th>Staten Island</th>\n",
       "      <td>1.190000e+07</td>\n",
       "    </tr>\n",
       "  </tbody>\n",
       "</table>\n",
       "</div>"
      ],
      "text/plain": [
       "               RANGE SALE PRICE\n",
       "BOROUGH                        \n",
       "Manhattan          2.210000e+09\n",
       "Brooklyn           1.600000e+08\n",
       "Queens             1.398749e+08\n",
       "Bronx              8.637500e+07\n",
       "Staten Island      1.190000e+07"
      ]
     },
     "execution_count": 24,
     "metadata": {},
     "output_type": "execute_result"
    }
   ],
   "source": [
    "#tampilkan tabel\n",
    "df_range.head()"
   ]
  },
  {
   "cell_type": "markdown",
   "id": "f1739d23",
   "metadata": {},
   "source": [
    "**Conclusion**"
   ]
  },
  {
   "cell_type": "markdown",
   "id": "1f36135a",
   "metadata": {},
   "source": [
    "berdasarkan tabel diatas, terlihat range harga properti termurah dan termahal dari 5 wilayah berdasarkan penjualan tahun 2017 sebagai berikut:\n",
    "\n",
    "1. Manhattan = \\\\$2,210,000,000\n",
    "2. Bronx = \\\\$160,000,000\n",
    "3. State Island = \\\\$139,874,900\n",
    "4. Brooklyn = \\\\$86,375,000\n",
    "5. Queens = $11,900,000"
   ]
  },
  {
   "cell_type": "markdown",
   "id": "5bcc687e",
   "metadata": {},
   "source": [
    "# E. Measure of Spread : Variance"
   ]
  },
  {
   "cell_type": "markdown",
   "id": "ef7dc694",
   "metadata": {},
   "source": [
    "**Question**"
   ]
  },
  {
   "cell_type": "markdown",
   "id": "db09be8c",
   "metadata": {},
   "source": [
    "Berapa variance harga properti berdasarkan tahun penjualannya?"
   ]
  },
  {
   "cell_type": "markdown",
   "id": "4c266314",
   "metadata": {},
   "source": [
    "**Pre-processing**"
   ]
  },
  {
   "cell_type": "code",
   "execution_count": 25,
   "id": "38af004e",
   "metadata": {},
   "outputs": [],
   "source": [
    "df_variance = df_nyc\n",
    "\n",
    "#buat kolom bernama 'SALE YEAR' dan isi dengan year pada kolom 'SALE DATE'\n",
    "df_variance['SALE YEAR'] = pd.DatetimeIndex(df_variance['SALE DATE']).year\n",
    "\n",
    "#buat pivot table dengan index 'SALE YEAR'', values 'SALE PRICE' dan aggfunc=statistics.variance\n",
    "#dimana statistics.variance akan menghitung ilai variance dari 'SALE PRICE' berdasarkan 'SALE YEAR'\n",
    "df_variance = df_nyc.pivot_table(\n",
    "    index='SALE YEAR', \n",
    "    values='SALE PRICE', \n",
    "    aggfunc=statistics.variance\n",
    ")\n",
    "\n",
    "#rename kolom 'SALE PRICE' menjadi ' VARIANCE SALE PRICE'\n",
    "df_variance.rename(columns={'SALE PRICE':' VARIANCE SALE PRICE'}, inplace=True)"
   ]
  },
  {
   "cell_type": "code",
   "execution_count": 26,
   "id": "96f175ab",
   "metadata": {
    "scrolled": false
   },
   "outputs": [
    {
     "data": {
      "text/html": [
       "<div>\n",
       "<style scoped>\n",
       "    .dataframe tbody tr th:only-of-type {\n",
       "        vertical-align: middle;\n",
       "    }\n",
       "\n",
       "    .dataframe tbody tr th {\n",
       "        vertical-align: top;\n",
       "    }\n",
       "\n",
       "    .dataframe thead th {\n",
       "        text-align: right;\n",
       "    }\n",
       "</style>\n",
       "<table border=\"1\" class=\"dataframe\">\n",
       "  <thead>\n",
       "    <tr style=\"text-align: right;\">\n",
       "      <th></th>\n",
       "      <th>VARIANCE SALE PRICE</th>\n",
       "    </tr>\n",
       "    <tr>\n",
       "      <th>SALE YEAR</th>\n",
       "      <th></th>\n",
       "    </tr>\n",
       "  </thead>\n",
       "  <tbody>\n",
       "    <tr>\n",
       "      <th>2016</th>\n",
       "      <td>9.569459e+13</td>\n",
       "    </tr>\n",
       "    <tr>\n",
       "      <th>2017</th>\n",
       "      <td>2.254478e+14</td>\n",
       "    </tr>\n",
       "  </tbody>\n",
       "</table>\n",
       "</div>"
      ],
      "text/plain": [
       "            VARIANCE SALE PRICE\n",
       "SALE YEAR                      \n",
       "2016               9.569459e+13\n",
       "2017               2.254478e+14"
      ]
     },
     "execution_count": 26,
     "metadata": {},
     "output_type": "execute_result"
    }
   ],
   "source": [
    "#tampilkan tabel\n",
    "df_variance.head()"
   ]
  },
  {
   "cell_type": "markdown",
   "id": "18b44f5b",
   "metadata": {},
   "source": [
    "**Conclusion**"
   ]
  },
  {
   "cell_type": "markdown",
   "id": "71ad6435",
   "metadata": {},
   "source": [
    "berdasarkan tabel diatas, terlihat bahwa variance harga properti pada tahun 2016 adalah 9.569459e+13 sedangkan tahun 2017 yaitu 2.254478e+14."
   ]
  },
  {
   "cell_type": "markdown",
   "id": "afedcddd",
   "metadata": {},
   "source": [
    "# F. Measure of Spread : Standard Deviation"
   ]
  },
  {
   "cell_type": "markdown",
   "id": "1e756f8a",
   "metadata": {},
   "source": [
    "**Question**"
   ]
  },
  {
   "cell_type": "markdown",
   "id": "6880cf39",
   "metadata": {},
   "source": [
    "Berapa standard deviasi harga properti berdasarkan tahun penjualannya?"
   ]
  },
  {
   "cell_type": "markdown",
   "id": "470582e5",
   "metadata": {},
   "source": [
    "**Pre-processing**"
   ]
  },
  {
   "cell_type": "code",
   "execution_count": 27,
   "id": "76931c98",
   "metadata": {},
   "outputs": [],
   "source": [
    "df_std = df_nyc\n",
    "\n",
    "#buat kolom bernama 'SALE YEAR' dan isi dengan year pada kolom 'SALE DATE'\n",
    "df_std['SALE YEAR'] = pd.DatetimeIndex(df_std['SALE DATE']).year\n",
    "\n",
    "#buat pivot table dengan index 'SALE YEAR'', values 'SALE PRICE' dan aggfunc=statistics.stdev\n",
    "#dimana statistics.stdev akan menghitung nilai standard deviasi dari 'SALE PRICE' berdasarkan 'SALE YEAR'\n",
    "df_std = df_std.pivot_table(\n",
    "    index='SALE YEAR', \n",
    "    values='SALE PRICE', \n",
    "    aggfunc=statistics.stdev\n",
    ")\n",
    "\n",
    "#rename kolom 'SALE PRICE' menjadi 'STD SALE PRICE'\n",
    "df_std.rename(columns={'SALE PRICE':' STD SALE PRICE'}, inplace=True)"
   ]
  },
  {
   "cell_type": "code",
   "execution_count": 28,
   "id": "e1bb966a",
   "metadata": {
    "scrolled": false
   },
   "outputs": [
    {
     "data": {
      "text/html": [
       "<div>\n",
       "<style scoped>\n",
       "    .dataframe tbody tr th:only-of-type {\n",
       "        vertical-align: middle;\n",
       "    }\n",
       "\n",
       "    .dataframe tbody tr th {\n",
       "        vertical-align: top;\n",
       "    }\n",
       "\n",
       "    .dataframe thead th {\n",
       "        text-align: right;\n",
       "    }\n",
       "</style>\n",
       "<table border=\"1\" class=\"dataframe\">\n",
       "  <thead>\n",
       "    <tr style=\"text-align: right;\">\n",
       "      <th></th>\n",
       "      <th>STD SALE PRICE</th>\n",
       "    </tr>\n",
       "    <tr>\n",
       "      <th>SALE YEAR</th>\n",
       "      <th></th>\n",
       "    </tr>\n",
       "  </thead>\n",
       "  <tbody>\n",
       "    <tr>\n",
       "      <th>2016</th>\n",
       "      <td>9.782361e+06</td>\n",
       "    </tr>\n",
       "    <tr>\n",
       "      <th>2017</th>\n",
       "      <td>1.501492e+07</td>\n",
       "    </tr>\n",
       "  </tbody>\n",
       "</table>\n",
       "</div>"
      ],
      "text/plain": [
       "            STD SALE PRICE\n",
       "SALE YEAR                 \n",
       "2016          9.782361e+06\n",
       "2017          1.501492e+07"
      ]
     },
     "execution_count": 28,
     "metadata": {},
     "output_type": "execute_result"
    }
   ],
   "source": [
    "#tampilkan tabel\n",
    "df_std.head()"
   ]
  },
  {
   "cell_type": "markdown",
   "id": "38f0ffb3",
   "metadata": {},
   "source": [
    "**Conclusion**"
   ]
  },
  {
   "cell_type": "markdown",
   "id": "bc754f75",
   "metadata": {},
   "source": [
    "berdasarkan tabel diatas, terlihat bahwa standar deviasi harga properti pada tahun 2016 adalah 9.782361e+06 sedangkan tahun 2017 yaitu 1.501492e+07."
   ]
  },
  {
   "cell_type": "markdown",
   "id": "3e652800",
   "metadata": {},
   "source": [
    "# G. Probability Distributions"
   ]
  },
  {
   "cell_type": "markdown",
   "id": "97550719",
   "metadata": {},
   "source": [
    "**Question**"
   ]
  },
  {
   "cell_type": "markdown",
   "id": "cf05be8f",
   "metadata": {},
   "source": [
    "Bagaimana bentuk distribusi harga properti diantara \\\\$1,000,000 - \\\\$6,000,000 yang terjual pada tahun 2016?"
   ]
  },
  {
   "cell_type": "markdown",
   "id": "6b1e3b08",
   "metadata": {},
   "source": [
    "**Pre-processing**"
   ]
  },
  {
   "cell_type": "code",
   "execution_count": 29,
   "id": "05e82946",
   "metadata": {},
   "outputs": [],
   "source": [
    "df_pd = df_nyc\n",
    "\n",
    "#buat kolom bernama 'SALE YEAR' dan isi dengan year pada kolom 'SALE DATE'\n",
    "df_pd['SALE YEAR'] = pd.DatetimeIndex(df_pd['SALE DATE']).year\n",
    "\n",
    "#Memfilter data dimana kolom 'SALE YEAR' yang diambil harus bernilai 2017, kolom 'SALE PRICE' yang diambil harus diantara sama dengan 1000000 - 5000000\n",
    "df_pd = df_pd[\n",
    "    (df_pd['SALE YEAR'] == 2016) & \n",
    "    (df_pd['SALE PRICE'] >= 1000000) &\n",
    "    (df_pd['SALE PRICE'] <= 6000000)\n",
    "]['SALE PRICE']"
   ]
  },
  {
   "cell_type": "code",
   "execution_count": 30,
   "id": "7d38a2b9",
   "metadata": {},
   "outputs": [
    {
     "data": {
      "text/plain": [
       "1300000.0"
      ]
     },
     "execution_count": 30,
     "metadata": {},
     "output_type": "execute_result"
    }
   ],
   "source": [
    "#mencari harga tertinggi\n",
    "mode = statistics.mode(df_pd)\n",
    "mode"
   ]
  },
  {
   "cell_type": "code",
   "execution_count": 31,
   "id": "adba8f92",
   "metadata": {
    "scrolled": true
   },
   "outputs": [
    {
     "data": {
      "image/png": "[encoded data removed]",
      "text/plain": [
       "<Figure size 360x360 with 1 Axes>"
      ]
     },
     "metadata": {},
     "output_type": "display_data"
    }
   ],
   "source": [
    "#grafik distribusi\n",
    "ax = sns.displot(\n",
    "    df_pd,\n",
    "    kde=True,\n",
    "    bins=100,\n",
    "    color='skyblue')"
   ]
  },
  {
   "cell_type": "markdown",
   "id": "fa3587ab",
   "metadata": {},
   "source": [
    "**Conclusion**"
   ]
  },
  {
   "cell_type": "markdown",
   "id": "382a885f",
   "metadata": {},
   "source": [
    "berdasarkan grafik distribusi diatas, terlihat bahwa grafik distirbusi tersebut menggambarkan distribusi eksponensial dan ingin dicari banyaknya properti terjual berdasarkan harga pada tahun 2016. didapat hasil grafik properti dengan harga \\\\$1,300,000 memiliki jumlah terjual paling tinggi, kemudian dari harga $1,300,000 - \\\\$6,000,000 memiliki jumlah terjual semakin menurun, sehingga dapat disimpulkan bahwa semakin mahal harga properti maka semakin sedikit jumlah properti yang terjual."
   ]
  },
  {
   "cell_type": "markdown",
   "id": "7f2579e8",
   "metadata": {},
   "source": [
    "# H. Confidence Intervals"
   ]
  },
  {
   "cell_type": "markdown",
   "id": "6d025579",
   "metadata": {},
   "source": [
    "**Question**"
   ]
  },
  {
   "cell_type": "markdown",
   "id": "4b8b23a9",
   "metadata": {},
   "source": [
    "Berapakah true mean harga properti di wilayah Manhattan?"
   ]
  },
  {
   "cell_type": "markdown",
   "id": "f5186aa1",
   "metadata": {},
   "source": [
    "**Pre-processing**"
   ]
  },
  {
   "cell_type": "code",
   "execution_count": 32,
   "id": "14c9e4ac",
   "metadata": {},
   "outputs": [],
   "source": [
    "#cari mean, standar deviasi, dan size dari 'SALE PRICE' berdasarkan 'BOROUGH'\n",
    "df_ci = df_nyc.groupby('BOROUGH').agg({'SALE PRICE':[np.mean, np.std, np.size]})"
   ]
  },
  {
   "cell_type": "code",
   "execution_count": 33,
   "id": "5b5ae3de",
   "metadata": {
    "scrolled": true
   },
   "outputs": [
    {
     "data": {
      "text/plain": [
       "(13082977.472065415, 23951462.881811325)"
      ]
     },
     "execution_count": 33,
     "metadata": {},
     "output_type": "execute_result"
    }
   ],
   "source": [
    "mean = df_ci.loc['Manhattan']['SALE PRICE']['mean'] #cari nilai mean pada Manhattan\n",
    "sd = df_ci.loc['Manhattan']['SALE PRICE']['std'] #cari nilai standar deviasi pada Manhattan\n",
    "n = df_ci.loc['Manhattan']['SALE PRICE']['size'] #cari nilai size pada Manhattan\n",
    "z = 1.96 #tingkat kepercayaan sebesar 95%\n",
    "\n",
    "#mencari standar error\n",
    "se = sd / np.sqrt(n)\n",
    "\n",
    "#mencari CI\n",
    "lcb = mean - z * se\n",
    "ucb = mean + z * se\n",
    "lcb,ucb"
   ]
  },
  {
   "cell_type": "markdown",
   "id": "c55f9073",
   "metadata": {},
   "source": [
    "**Conclusion**"
   ]
  },
  {
   "cell_type": "markdown",
   "id": "7b5688aa",
   "metadata": {},
   "source": [
    "berdasarkan output diatas, terlihat bahwa true mean harga properti di wilayah Manhattan berada diantara \\\\$13,082,977 - \\\\$23,951,462."
   ]
  },
  {
   "cell_type": "markdown",
   "id": "5755f745",
   "metadata": {},
   "source": [
    "# I. Hypothesis Testing"
   ]
  },
  {
   "cell_type": "markdown",
   "id": "5ebe2728",
   "metadata": {},
   "source": [
    "**Question**"
   ]
  },
  {
   "cell_type": "markdown",
   "id": "7615b583",
   "metadata": {},
   "source": [
    "Apakah wilayah Brooklyn memiliki rata-rata harga properti yang lebih tinggi dibandingkan wilayah Queens?\\\n",
    "H0: μ1 = μ2\\\n",
    "H1: μ1 ≠ μ2"
   ]
  },
  {
   "cell_type": "markdown",
   "id": "c9549732",
   "metadata": {},
   "source": [
    "**Pre-processing**"
   ]
  },
  {
   "cell_type": "code",
   "execution_count": 34,
   "id": "8b624cec",
   "metadata": {},
   "outputs": [
    {
     "data": {
      "text/plain": [
       "(-1.751336483996908, 0.07988796676258987)"
      ]
     },
     "execution_count": 34,
     "metadata": {},
     "output_type": "execute_result"
    }
   ],
   "source": [
    "#pilih borough\n",
    "df_manhattan = df_nyc[df_nyc['BOROUGH'] == 'Brooklyn']\n",
    "df_queens = df_nyc[df_nyc['BOROUGH'] == 'Queens']\n",
    "\n",
    "#cari mean dan standar deviasi dari Manhattan\n",
    "n1 = len(df_manhattan)\n",
    "mu1 = df_manhattan['SALE PRICE'].mean()\n",
    "sd1 = df_manhattan['SALE PRICE'].std()\n",
    "\n",
    "#cari mean dan standar deviasi dari Queens\n",
    "n2 = len(df_queens)\n",
    "mu2 = df_queens['SALE PRICE'].mean()\n",
    "sd2 = df_queens['SALE PRICE'].std()\n",
    "\n",
    " \n",
    "sm.stats.ztest(df_manhattan['SALE PRICE'], df_queens['SALE PRICE'], alternative='two-sided')"
   ]
  },
  {
   "cell_type": "markdown",
   "id": "b183a3f0",
   "metadata": {},
   "source": [
    "berdasarkan hasil output diatas, terlihat bahwa p-value > alpha (0.07988796676258987 > 0.05) sehingga tidak tolak H0. jadi, dapat disimpulkan bahwa wilayah Brooklyn tidak memiliki rata-rata harga properti yang lebih tinggi dibandingkan wilayah Queens."
   ]
  },
  {
   "cell_type": "markdown",
   "id": "f91606cf",
   "metadata": {},
   "source": [
    "# Overall Analysis"
   ]
  },
  {
   "cell_type": "markdown",
   "id": "1bbdd5cf",
   "metadata": {},
   "source": [
    "berdasarkan hasil statistik yang telah dibahas, dapat disimpulkan sebagai berikut:\n",
    "1. wilayah Manhattan memiliki harga properti tertinggi\n",
    "2. lokasi alamat di 245 PARK AVENUE memiliki harga properti tertinggi\n",
    "3. rata-rata harga properti wilayah Brooklyn tidak jauh lebih tinggi dengan wilayah Queens\n",
    "4. pada tahun 2016, properti dengan harga \\\\$1,300,000 memiliki jumlah terjual paling tinggi\n",
    "5. semakin mahal harga properti maka semakin sedikit jumlah properti yang terjual"
   ]
  }
 ],
 "metadata": {
  "kernelspec": {
   "display_name": "Python 3 (ipykernel)",
   "language": "python",
   "name": "python3"
  },
  "language_info": {
   "codemirror_mode": {
    "name": "ipython",
    "version": 3
   },
   "file_extension": ".py",
   "mimetype": "text/x-python",
   "name": "python",
   "nbconvert_exporter": "python",
   "pygments_lexer": "ipython3",
   "version": "3.9.12"
  },
  "toc": {
   "base_numbering": 1,
   "nav_menu": {},
   "number_sections": true,
   "sideBar": true,
   "skip_h1_title": false,
   "title_cell": "Table of Contents",
   "title_sidebar": "Contents",
   "toc_cell": false,
   "toc_position": {
    "height": "calc(100% - 180px)",
    "left": "10px",
    "top": "150px",
    "width": "165px"
   },
   "toc_section_display": true,
   "toc_window_display": true
  }
 },
 "nbformat": 4,
 "nbformat_minor": 5
}
